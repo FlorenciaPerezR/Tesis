{
 "cells": [
  {
   "cell_type": "code",
   "execution_count": 2,
   "metadata": {},
   "outputs": [],
   "source": [
    "import numpy as np\n",
    "from sklearn.ensemble import RandomForestClassifier\n",
    "from sklearn.ensemble import GradientBoostingClassifier\n",
    "from sklearn.model_selection import KFold\n",
    "from sklearn.metrics import roc_auc_score\n",
    "from random import shuffle\n",
    "from numpy import genfromtxt\n",
    "import csv\n",
    "import pandas as pd\n",
    "from sklearn.feature_selection import SelectKBest\n"
   ]
  },
  {
   "cell_type": "code",
   "execution_count": 3,
   "metadata": {},
   "outputs": [],
   "source": [
    "path = '/home/nicobruno/flor/Tesis/'\n",
    "sujeto = '02_auditivo'\n",
    "\n",
    "matriz = path + 'resultados/'+'S'+ sujeto+'_evoked_all_marker.csv'\n",
    "vector = path + 'vectores/'+'S_'+sujeto+'.csv'\n",
    "\n",
    "lista=2,3,4,5,6,7,8,9,10,11,12,13,14,15,16,17,18,19,20,21,22,23,24,5,26,27,28,29,30\n",
    "\n",
    "\n",
    "my_data= genfromtxt(matriz, skip_header=1,usecols=(lista),delimiter=',')\n",
    "labels= genfromtxt(vector, skip_header=1,delimiter=',')"
   ]
  },
  {
   "cell_type": "code",
   "execution_count": 5,
   "metadata": {},
   "outputs": [
    {
     "name": "stdout",
     "output_type": "stream",
     "text": [
      "0\n",
      "0\n",
      "(100, 10)\n",
      "(10,)\n",
      "1\n",
      "(100, 10)\n",
      "(10,)\n",
      "2\n",
      "(100, 10)\n",
      "(10,)\n",
      "3\n",
      "(100, 10)\n",
      "(10,)\n",
      "4\n",
      "(100, 10)\n",
      "(10,)\n",
      "5\n",
      "(100, 10)\n",
      "(10,)\n",
      "6\n",
      "(100, 10)\n",
      "(10,)\n",
      "7\n",
      "(100, 10)\n",
      "(10,)\n",
      "8\n",
      "(100, 10)\n",
      "(10,)\n",
      "9\n",
      "(100, 10)\n",
      "(10,)\n"
     ]
    },
    {
     "ename": "ValueError",
     "evalue": "could not broadcast input array from shape (10,) into shape (29,)",
     "output_type": "error",
     "traceback": [
      "\u001b[0;31m---------------------------------------------------------------------------\u001b[0m",
      "\u001b[0;31mValueError\u001b[0m                                Traceback (most recent call last)",
      "Cell \u001b[0;32mIn[5], line 51\u001b[0m\n\u001b[1;32m     49\u001b[0m auc\u001b[38;5;241m.\u001b[39mappend(np\u001b[38;5;241m.\u001b[39mmean(np\u001b[38;5;241m.\u001b[39marray(temp)))\n\u001b[1;32m     50\u001b[0m auc_sh\u001b[38;5;241m.\u001b[39mappend(np\u001b[38;5;241m.\u001b[39mmean(np\u001b[38;5;241m.\u001b[39marray(temp_sh)))\n\u001b[0;32m---> 51\u001b[0m features[i,:] \u001b[38;5;241m=\u001b[39m np\u001b[38;5;241m.\u001b[39mmean(ftemp,\u001b[38;5;241m0\u001b[39m)\n\u001b[1;32m     52\u001b[0m features_sh[i,:] \u001b[38;5;241m=\u001b[39m np\u001b[38;5;241m.\u001b[39mmean(ftemp_sh,\u001b[38;5;241m0\u001b[39m)\n",
      "\u001b[0;31mValueError\u001b[0m: could not broadcast input array from shape (10,) into shape (29,)"
     ]
    }
   ],
   "source": [
    "auc = []\n",
    "auc_sh = []\n",
    "\n",
    "nfolds=10\n",
    "kf =KFold(n_splits=nfolds)\n",
    "n_iter = 100\n",
    "k=10\n",
    "selected = np.zeros((n_iter*nfolds,29))\n",
    "\n",
    "features = np.zeros((n_iter,29))\n",
    "features_sh = np.zeros((n_iter,29))\n",
    "\n",
    "for i in np.arange(n_iter):\n",
    "    print(i)\n",
    "    temp = []\n",
    "    temp_sh = []\n",
    "\n",
    "    ftemp = np.zeros((100,29))\n",
    "    ftemp_sh = np.zeros((100,29))\n",
    "\n",
    "    \n",
    "    n=-1\n",
    "    for train, test in kf.split(my_data):\n",
    "        n=n+1\n",
    "        X_train, X_test, y_train, y_test = my_data[train], my_data[test], labels[train], labels[test]\n",
    "\n",
    "        \n",
    "        clf = GradientBoostingClassifier(n_estimators=1000)\n",
    "        clf.fit(X_train,y_train)\n",
    "        probas = clf.predict_proba(X_test)\n",
    "        temp.append(roc_auc_score(y_test,probas[:,1]))\n",
    "        print(n)\n",
    "        print(ftemp.shape)\n",
    "        print(ftemp[n].shape)\n",
    "        ftemp[n,:] = clf.feature_importances_\n",
    "\n",
    "        y_train_sh = y_train.copy()\n",
    "        shuffle(y_train_sh)\n",
    "        clf.fit(X_train,y_train_sh)\n",
    "        probas = clf.predict_proba(X_test)\n",
    "        ftemp_sh[n,:] = clf.feature_importances_\n",
    "        temp_sh.append(roc_auc_score(y_test,probas[:,1]))\n",
    "\n",
    "    auc.append(np.mean(np.array(temp)))\n",
    "    auc_sh.append(np.mean(np.array(temp_sh)))\n",
    "    features[i,:] = np.mean(ftemp,0)\n",
    "    features_sh[i,:] = np.mean(ftemp_sh,0)\n"
   ]
  },
  {
   "cell_type": "code",
   "execution_count": 5,
   "metadata": {},
   "outputs": [
    {
     "data": {
      "text/plain": [
       "0.0"
      ]
     },
     "execution_count": 5,
     "metadata": {},
     "output_type": "execute_result"
    }
   ],
   "source": [
    "nf = 4\n",
    "\n",
    "np.sum(features_sh[:,nf]>features[:,nf])/100"
   ]
  },
  {
   "cell_type": "code",
   "execution_count": null,
   "metadata": {},
   "outputs": [],
   "source": [
    "np.sum(auc_sh>auc)/100"
   ]
  },
  {
   "cell_type": "code",
   "execution_count": null,
   "metadata": {},
   "outputs": [],
   "source": [
    "features = ['wSMI_1','wSMI_2','wSMI_4','wSMI_8','p_e_1','p_e_2','p_e_4','p_e_8','k',\n",
    "            'se','msf','sef90','sef95','b','b_n','g','g_n','ft','ft_n','t',\n",
    "            't_n','d','d_n','a_n','a','CNV','P1','P3a','P3b']"
   ]
  },
  {
   "cell_type": "code",
   "execution_count": 26,
   "metadata": {},
   "outputs": [
    {
     "name": "stdout",
     "output_type": "stream",
     "text": [
      "0.0\n"
     ]
    }
   ],
   "source": [
    "auc_1 = '/home/nicobruno/flor/Tesis/random_forest_resultados/S04_auditivo_auc.csv'\n",
    "auc_sh_1 = '/home/nicobruno/flor/Tesis/random_forest_resultados/S04_auditivo_auc_sh.csv'\n",
    "\n",
    "auc_datos= genfromtxt(auc_1, skip_header=1,delimiter=',')\n",
    "auc_sh_datos= genfromtxt(auc_sh_1, skip_header=1,delimiter=',')\n",
    "\n",
    "p = np.sum(np.array(auc_sh_datos)>np.array(auc_datos))/100\n",
    "print(p)"
   ]
  },
  {
   "cell_type": "code",
   "execution_count": 21,
   "metadata": {},
   "outputs": [
    {
     "data": {
      "text/plain": [
       "array([0.5572257 , 0.5604683 , 0.55751641, 0.55826221, 0.56106713,\n",
       "       0.56171153, 0.55574477, 0.55975457, 0.56014063, 0.55028069,\n",
       "       0.56343421, 0.56055241, 0.56755453, 0.55860553, 0.56470182,\n",
       "       0.56145871, 0.56416197, 0.56902396, 0.56339878, 0.55796484,\n",
       "       0.56432872, 0.56306275, 0.56489579, 0.55608496, 0.55374182,\n",
       "       0.56118039, 0.55545123, 0.56643053, 0.55734454, 0.56830471,\n",
       "       0.56823879, 0.55095214, 0.56132884, 0.55250135, 0.5579326 ,\n",
       "       0.55998722, 0.55034622, 0.57169168, 0.56149875, 0.55557176,\n",
       "       0.55814777, 0.55529901, 0.56417506, 0.55936778, 0.55947796,\n",
       "       0.55676369, 0.55867745, 0.55438631, 0.55862791, 0.56266935,\n",
       "       0.55271317, 0.54952183, 0.5569923 , 0.56974294, 0.56298191,\n",
       "       0.55590474, 0.56275698, 0.56980251, 0.5606955 , 0.55416768,\n",
       "       0.56483835, 0.55796211, 0.55447148, 0.54681875, 0.56109232,\n",
       "       0.5672991 , 0.55804568, 0.56123185, 0.5565365 , 0.5622205 ,\n",
       "       0.55733679, 0.55791403, 0.55175765, 0.5527167 , 0.55362707,\n",
       "       0.55257571, 0.55375044, 0.55838054, 0.56615158, 0.55293622,\n",
       "       0.55474363, 0.55084886, 0.55127858, 0.56294431, 0.55949999,\n",
       "       0.55807845, 0.55079398, 0.55507519, 0.56035202, 0.55664094,\n",
       "       0.5581234 , 0.56754702, 0.55485641, 0.56392401, 0.56736524,\n",
       "       0.55619709, 0.55769132, 0.55952081, 0.56183702, 0.55773699])"
      ]
     },
     "execution_count": 21,
     "metadata": {},
     "output_type": "execute_result"
    }
   ],
   "source": [
    "np.array(auc_datos)"
   ]
  },
  {
   "cell_type": "markdown",
   "metadata": {},
   "source": []
  },
  {
   "cell_type": "code",
   "execution_count": 6,
   "metadata": {},
   "outputs": [
    {
     "data": {
      "text/plain": [
       "array([[0.03901257, 0.03430923, 0.03358955, ..., 0.03520001, 0.03564202,\n",
       "        0.03608217],\n",
       "       [0.03909691, 0.03441712, 0.03318979, ..., 0.0356355 , 0.03442252,\n",
       "        0.03601288],\n",
       "       [0.0387119 , 0.03437195, 0.03386355, ..., 0.03448569, 0.03554148,\n",
       "        0.03661368],\n",
       "       ...,\n",
       "       [0.03962473, 0.03438354, 0.03352063, ..., 0.03426924, 0.03479825,\n",
       "        0.03591234],\n",
       "       [0.03937827, 0.03477985, 0.03406088, ..., 0.03471881, 0.03516792,\n",
       "        0.03636667],\n",
       "       [0.03920189, 0.0352453 , 0.03343245, ..., 0.03493601, 0.03513961,\n",
       "        0.03612788]])"
      ]
     },
     "execution_count": 6,
     "metadata": {},
     "output_type": "execute_result"
    }
   ],
   "source": [
    "features"
   ]
  },
  {
   "cell_type": "code",
   "execution_count": 102,
   "metadata": {},
   "outputs": [],
   "source": [
    "\n",
    "\n",
    "folder = '/home/nicobruno/flor/Tesis/gradient_boosting_selector_resultados'\n",
    "#auc.to_csv(folder+'S'+sujeto + '_' + 'auc.csv')\n",
    "#auc_sh.to_csv(folder+'S'+sujeto + '_' + 'auc_sh.csv')\n",
    "#features.to_csv(folder+'S'+sujeto + '_' + 'features.csv')\n",
    "#features_sh.to_csv(folder+'S'+sujeto + '_' + 'features_sh.csv')\n",
    "\n"
   ]
  },
  {
   "cell_type": "code",
   "execution_count": 103,
   "metadata": {},
   "outputs": [],
   "source": [
    "pd.DataFrame(data={\n",
    "    \"values\": auc\n",
    "}).to_csv(folder+'S'+sujeto + '_' + 'auc.csv', index=False)"
   ]
  },
  {
   "cell_type": "code",
   "execution_count": 104,
   "metadata": {},
   "outputs": [],
   "source": [
    "pd.DataFrame(data={\n",
    "    \"values\": auc_sh\n",
    "}).to_csv(folder+'S'+sujeto + '_' + 'auc_sh.csv', index=False)"
   ]
  },
  {
   "cell_type": "code",
   "execution_count": 105,
   "metadata": {},
   "outputs": [],
   "source": [
    "feature_names = pd.read_csv(matriz, index_col=0).drop(columns=[\"participant\"]).columns.tolist()\n",
    "pd.DataFrame(features, columns=feature_names).to_csv(folder+'S'+sujeto + '_' + 'features.csv', index=False)\n",
    "pd.DataFrame(features_sh, columns=feature_names).to_csv(folder+'S'+sujeto + '_' + 'features_sh.csv', index=False)"
   ]
  }
 ],
 "metadata": {
  "kernelspec": {
   "display_name": "base",
   "language": "python",
   "name": "python3"
  },
  "language_info": {
   "codemirror_mode": {
    "name": "ipython",
    "version": 3
   },
   "file_extension": ".py",
   "mimetype": "text/x-python",
   "name": "python",
   "nbconvert_exporter": "python",
   "pygments_lexer": "ipython3",
   "version": "3.10.9"
  }
 },
 "nbformat": 4,
 "nbformat_minor": 2
}
