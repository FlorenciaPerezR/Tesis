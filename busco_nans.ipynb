{
 "cells": [
  {
   "cell_type": "code",
   "execution_count": 1,
   "metadata": {},
   "outputs": [],
   "source": [
    "import numpy as np\n",
    "from sklearn.ensemble import RandomForestClassifier\n",
    "from sklearn.model_selection import KFold\n",
    "from sklearn.metrics import roc_auc_score\n",
    "from random import shuffle\n",
    "from numpy import genfromtxt\n",
    "import csv\n",
    "import pandas as pd"
   ]
  },
  {
   "cell_type": "code",
   "execution_count": 12,
   "metadata": {},
   "outputs": [
    {
     "name": "stdout",
     "output_type": "stream",
     "text": [
      "wSMI_1    0\n",
      "wSMI_2    0\n",
      "wSMI_4    0\n",
      "wSMI_8    0\n",
      "p_e_1     0\n",
      "p_e_2     0\n",
      "p_e_4     0\n",
      "p_e_8     0\n",
      "k         0\n",
      "se        0\n",
      "msf       0\n",
      "sef90     0\n",
      "sef95     0\n",
      "b         0\n",
      "b_n       1\n",
      "g         0\n",
      "g_n       1\n",
      "ft        0\n",
      "ft_n      0\n",
      "t         0\n",
      "t_n       1\n",
      "d         0\n",
      "d_n       1\n",
      "a         0\n",
      "CNV       0\n",
      "P1        0\n",
      "P3a       0\n",
      "P3b       0\n",
      "dtype: int64\n"
     ]
    }
   ],
   "source": [
    "path = '/home/nicobruno/flor/Tesis/'\n",
    "sujeto = '08_auditivo'\n",
    "\n",
    "matriz = path + 'resultados/'+'S'+ sujeto+'_evoked_all_marker.csv'\n",
    "\n",
    "lista=2,3,4,5,6,7,8,9,10,11,12,13,14,15,16,17,18,19,20,21,22,23,24,5,26,27,28,29,30\n",
    "\n",
    "df = pd.read_csv(matriz, usecols=(lista))\n",
    "df_nan = df.isna().sum()\n",
    "print(df_nan)"
   ]
  },
  {
   "cell_type": "code",
   "execution_count": null,
   "metadata": {},
   "outputs": [],
   "source": []
  }
 ],
 "metadata": {
  "kernelspec": {
   "display_name": "base",
   "language": "python",
   "name": "python3"
  },
  "language_info": {
   "codemirror_mode": {
    "name": "ipython",
    "version": 3
   },
   "file_extension": ".py",
   "mimetype": "text/x-python",
   "name": "python",
   "nbconvert_exporter": "python",
   "pygments_lexer": "ipython3",
   "version": "3.10.9"
  }
 },
 "nbformat": 4,
 "nbformat_minor": 2
}
