{
 "cells": [
  {
   "cell_type": "code",
   "execution_count": null,
   "metadata": {},
   "outputs": [],
   "source": [
    "#%%\n",
    "    #%matplotlib auto\n",
    "\n",
    "import matplotlib.pyplot as plt\n",
    "\n",
    "import pyxdf\n",
    "\n",
    "import mne\n",
    "from mnelab.io.xdf import read_raw_xdf\n",
    "import os\n",
    "\n",
    "file_path = '/mnt/d/Florencia/Desktop/Facultad/Tesis/TesisFlor/Mediciones/S02_auditivo.xdf'\n",
    "streams, header = pyxdf.load_xdf(file_path)\n",
    "\n",
    "#%%\n",
    "print(\"Found {} streams:\".format(len(streams)))\n",
    "for ix, stream in enumerate(streams):\n",
    "    msg = \"Stream {}: {} - type {} - uid {} - shape {} at {} (effective {}) Hz\"\n",
    "    print(msg.format(\n",
    "        ix + 1, stream['info']['name'][0],\n",
    "        stream['info']['type'][0],\n",
    "        stream['info']['uid'][0],\n",
    "        (int(stream['info']['channel_count'][0]), len(stream['time_stamps'])),\n",
    "        stream['info']['nominal_srate'][0],\n",
    "        stream['info']['effective_srate'])\n",
    "    )\n",
    "# %%\n",
    "\n",
    "\n",
    "\n",
    "\n",
    "\n",
    "raw = read_raw_xdf(file_path, stream_ids=[1],preload=True)\n",
    "#%%\n",
    "raw.plot()\n",
    "#%%\n",
    "#Guardo este nuevo archivo en una carpeta diferente \n",
    "new_file_path = '/mnt/d/Florencia/Desktop/Facultad/Tesis/TesisFlor/Analisis/S02_auditivo.fif'"
   ]
  }
 ],
 "metadata": {
  "kernelspec": {
   "display_name": "base",
   "language": "python",
   "name": "python3"
  },
  "language_info": {
   "name": "python",
   "version": "3.10.9"
  }
 },
 "nbformat": 4,
 "nbformat_minor": 2
}
