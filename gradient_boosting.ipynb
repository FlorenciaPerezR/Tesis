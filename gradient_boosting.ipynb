{
 "cells": [
  {
   "cell_type": "code",
   "execution_count": 1,
   "metadata": {},
   "outputs": [],
   "source": [
    "import numpy as np\n",
    "from numpy import genfromtxt\n",
    "from sklearn.ensemble import RandomForestClassifier\n",
    "from sklearn.model_selection import KFold\n",
    "from sklearn.ensemble import RandomForestRegressor\n",
    "from sklearn.ensemble import GradientBoostingRegressor\n",
    "from sklearn.model_selection import train_test_split\n",
    "from sklearn.linear_model import LinearRegression\n",
    "from scipy.stats import pearsonr\n",
    "from sklearn.metrics import r2_score\n",
    "import matplotlib.pyplot as plt\n",
    "from sklearn.feature_selection import SelectKBest, f_classif,  SelectPercentile\n",
    "from sklearn.metrics import mean_absolute_error as mae\n",
    "from sklearn.model_selection import GridSearchCV\n",
    "from sklearn.svm import SVR\n",
    "from sklearn.ensemble import RandomForestClassifier\n",
    "from sklearn.linear_model import Ridge\n",
    "from sklearn.ensemble import GradientBoostingRegressor\n",
    "from sklearn.neural_network import MLPRegressor\n",
    "from random import shuffle\n",
    "from sklearn.metrics import roc_auc_score\n",
    "from sklearn.feature_selection import SelectKBest\n",
    "import pandas as pd"
   ]
  },
  {
   "cell_type": "code",
   "execution_count": 34,
   "metadata": {},
   "outputs": [],
   "source": [
    "path = '/home/nicobruno/flor/Tesis/'\n",
    "sujeto = '12_auditivo'\n",
    "\n",
    "matriz = path + 'resultados/'+'S'+ sujeto+'_evoked_all_marker.csv'\n",
    "vector = path + 'vectores/'+'S_'+sujeto+'.csv'\n",
    "\n",
    "lista=2,3,4,5,6,7,8,9,10,11,12,13,14,15,16,17,18,19,20,21,22,23,24,5,26,27,28,29,30\n",
    "\n",
    "\n",
    "eeg= genfromtxt(matriz, skip_header=1,usecols=(lista),delimiter=',')\n",
    "labels= genfromtxt(vector, skip_header=1,delimiter=',')"
   ]
  },
  {
   "cell_type": "code",
   "execution_count": 35,
   "metadata": {},
   "outputs": [
    {
     "name": "stdout",
     "output_type": "stream",
     "text": [
      "0\n",
      "1\n",
      "2\n",
      "3\n",
      "4\n",
      "5\n",
      "6\n",
      "7\n",
      "8\n",
      "9\n",
      "10\n",
      "11\n",
      "12\n",
      "13\n",
      "14\n",
      "15\n",
      "16\n",
      "17\n",
      "18\n",
      "19\n",
      "20\n",
      "21\n",
      "22\n",
      "23\n",
      "24\n",
      "25\n",
      "26\n",
      "27\n",
      "28\n",
      "29\n",
      "30\n",
      "31\n",
      "32\n",
      "33\n",
      "34\n",
      "35\n",
      "36\n",
      "37\n",
      "38\n",
      "39\n",
      "40\n",
      "41\n",
      "42\n",
      "43\n",
      "44\n",
      "45\n",
      "46\n",
      "47\n",
      "48\n",
      "49\n",
      "50\n",
      "51\n",
      "52\n",
      "53\n",
      "54\n",
      "55\n",
      "56\n",
      "57\n",
      "58\n",
      "59\n",
      "60\n",
      "61\n",
      "62\n",
      "63\n",
      "64\n",
      "65\n",
      "66\n",
      "67\n",
      "68\n",
      "69\n",
      "70\n",
      "71\n",
      "72\n",
      "73\n",
      "74\n",
      "75\n",
      "76\n",
      "77\n",
      "78\n",
      "79\n",
      "80\n",
      "81\n",
      "82\n",
      "83\n",
      "84\n",
      "85\n",
      "86\n",
      "87\n",
      "88\n",
      "89\n",
      "90\n",
      "91\n",
      "92\n",
      "93\n",
      "94\n",
      "95\n",
      "96\n",
      "97\n",
      "98\n",
      "99\n"
     ]
    }
   ],
   "source": [
    "\n",
    "nfolds = 10\n",
    "kf = KFold(n_splits=nfolds) # validación cruzada (número de folds)\n",
    "\n",
    "\n",
    "all_auc = []\n",
    "all_auc_sh = []\n",
    "niter = 100\n",
    "k = 5\n",
    "selected = np.zeros((niter*nfolds,29))\n",
    "\n",
    "\n",
    "n=-1\n",
    "for i in np.arange(niter):\n",
    "    print(i)\n",
    "    for train, test in kf.split(eeg):\n",
    "        n=n+1\n",
    "        temp = []\n",
    "        temp_sh= []\n",
    "        X_train, X_test, y_train, y_test = eeg[train], eeg[test], labels[train], labels[test]\n",
    "        # ABAJO ESTÁ LA GRILLA DE SELECCION DE PARAMETROS. PROBAR CON DISTINTOS RANGOS Y PASOS ALPHA\n",
    "        \n",
    "        \n",
    "        selector = SelectKBest(k=k)\n",
    "        selector.fit(X_train, y_train)\n",
    "        X_train_new = selector.transform(X_train)\n",
    "        X_test_new = selector.transform(X_test)\n",
    "        selected[n,:] = selector.get_support()\n",
    "\n",
    "        clf = RandomForestClassifier(n_estimators=1000)\n",
    "        clf.fit(X_train_new,y_train)\n",
    "        grid_predictions_stack = clf.predict_proba(X_test_new)\n",
    "        temp.append(roc_auc_score(y_test, grid_predictions_stack[:,1]))\n",
    "                    \n",
    "        y_train_sh = y_train.copy()  \n",
    "        shuffle(y_train_sh)\n",
    "\n",
    "        clf.fit(X_train_new,y_train_sh)\n",
    "        grid_predictions_stack = clf.predict_proba(X_test_new)\n",
    "        temp_sh.append(roc_auc_score(y_test, grid_predictions_stack[:,1]))\n",
    "                       \n",
    "    all_auc.append(np.mean(temp))\n",
    "    all_auc_sh.append(np.mean(temp_sh))\n"
   ]
  },
  {
   "cell_type": "code",
   "execution_count": 36,
   "metadata": {},
   "outputs": [
    {
     "name": "stdout",
     "output_type": "stream",
     "text": [
      "0.0\n",
      "0.13\n"
     ]
    }
   ],
   "source": [
    "prueba = np.sum(all_auc_sh>all_auc)/100\n",
    "p = np.sum(np.array(all_auc_sh)>np.array(all_auc))/100\n",
    "\n",
    "print(prueba)\n",
    "print(p)"
   ]
  },
  {
   "cell_type": "code",
   "execution_count": 33,
   "metadata": {},
   "outputs": [
    {
     "name": "stdout",
     "output_type": "stream",
     "text": [
      "0.01\n"
     ]
    }
   ],
   "source": [
    "auc_1 = '/home/nicobruno/flor/Tesis/gradient_boosting_selector_resultados/S09_visual_auc_gb.csv'\n",
    "auc_sh_1 = '/home/nicobruno/flor/Tesis/gradient_boosting_selector_resultados/S09_visual_auc_sh_gb.csv'\n",
    "\n",
    "auc_datos= genfromtxt(auc_1, skip_header=1,delimiter=',')\n",
    "auc_sh_datos= genfromtxt(auc_sh_1, skip_header=1,delimiter=',')\n",
    "\n",
    "p = np.sum(np.array(auc_sh_datos)>np.array(auc_datos))/100\n",
    "print(p)"
   ]
  },
  {
   "cell_type": "code",
   "execution_count": 37,
   "metadata": {},
   "outputs": [],
   "source": [
    "folder = '/home/nicobruno/flor/Tesis/gradient_boosting_selector_resultados/'"
   ]
  },
  {
   "cell_type": "code",
   "execution_count": 38,
   "metadata": {},
   "outputs": [],
   "source": [
    "pd.DataFrame(data={\n",
    "    \"values\": all_auc\n",
    "}).to_csv(folder+'S'+sujeto + '_' + 'auc_gb.csv', index=False)"
   ]
  },
  {
   "cell_type": "code",
   "execution_count": 39,
   "metadata": {},
   "outputs": [],
   "source": [
    "pd.DataFrame(data={\n",
    "    \"values\": all_auc_sh\n",
    "}).to_csv(folder+'S'+sujeto + '_' + 'auc_sh_gb.csv', index=False)"
   ]
  }
 ],
 "metadata": {
  "kernelspec": {
   "display_name": "base",
   "language": "python",
   "name": "python3"
  },
  "language_info": {
   "codemirror_mode": {
    "name": "ipython",
    "version": 3
   },
   "file_extension": ".py",
   "mimetype": "text/x-python",
   "name": "python",
   "nbconvert_exporter": "python",
   "pygments_lexer": "ipython3",
   "version": "3.10.9"
  }
 },
 "nbformat": 4,
 "nbformat_minor": 2
}
